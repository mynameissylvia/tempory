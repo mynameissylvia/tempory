{
 "cells": [
  {
   "cell_type": "code",
   "execution_count": 4,
   "metadata": {
    "collapsed": true
   },
   "outputs": [],
   "source": [
    "import pandas as pd\n",
    "import numpy as np\n",
    "import csv\n",
    "import math"
   ]
  },
  {
   "cell_type": "code",
   "execution_count": 5,
   "metadata": {
    "collapsed": true
   },
   "outputs": [],
   "source": [
    "def change_feature(x):\n",
    "    x = x.drop(['LIMIT_BAL'],axis = 1)\n",
    "    x['female'] = np.where(x['SEX']==2, 1, 0)\n",
    "    x['male'] = np.where(x['SEX']==1, 1, 0)\n",
    "    for i in range(6):\n",
    "        x[i+1] = np.where(x['EDUCATION']==i+1, 1, 0)\n",
    "    x['Marry'] = np.where(x['MARRIAGE']==2, 1, 0)\n",
    "    x['Single'] = np.where(x['MARRIAGE']==1, 1, 0)\n",
    "    x['Unknown'] = np.where(x['MARRIAGE']==3, 1, 0)\n",
    "    x = x.drop(['EDUCATION','SEX','MARRIAGE'],axis = 1)\n",
    "    #    x= x.drop(['SEX','EDUCATION','MARRIAGE'],axis = 1)\n",
    "#    x['education^2']=x['EDUCATION']**2\n",
    "#    x['Bill_sum']=x['BILL_AMT1']+x['BILL_AMT2']+x['BILL_AMT3']+x['BILL_AMT4']+x['BILL_AMT5']+x['BILL_AMT6']\n",
    "#    x['PAY_AMT_sum'] = 0\n",
    " #   for i in x:\n",
    "  #      if 'PAY_AMT' in i:\n",
    "   #         x['PAY_AMT_sum']=x[i]+x['PAY_AMT_sum']\n",
    "    return x"
   ]
  },
  {
   "cell_type": "code",
   "execution_count": 6,
   "metadata": {
    "collapsed": true
   },
   "outputs": [],
   "source": [
    "def training(inp_csvx,inp_csvy):\n",
    "    x_train = pd.read_csv(inp_csvx)\n",
    "    y_train = pd.read_csv(inp_csvy)\n",
    "    x_train = change_feature(x_train)\n",
    "    print (x_train.columns)\n",
    "    X = x_train.values\n",
    "    Y = y_train.T.values[0].astype(float)\n",
    "\n",
    "    #feature scaling\n",
    "    minx = np.min(X, axis=0)\n",
    "    maxx = np.max(X, axis=0)\n",
    "    X = (X - minx) / (maxx - minx)\n",
    "    #optimize\n",
    "    \n",
    "    w =  np.zeros(len(X[0]))\n",
    "    m = X.shape[0]\n",
    "    b = 0\n",
    "    lamba = 10^-6\n",
    "    \n",
    "    lr = (2.81)*(10^-5)\n",
    "    lr_b = 0\n",
    "    lr_w = 0\n",
    "    current_F1 = 0\n",
    "    run = 10200\n",
    "    costs = []\n",
    "    count = 0\n",
    "    regul_p = 10^-9\n",
    "    for i in range(run):\n",
    "        \n",
    "        tem_y = np.dot(X,w)+b\n",
    "        h0 = 1.0/(1 + np.exp(-1.0 * tem_y))\n",
    "#        cost = (-1.0) * np.mean(np.multiply(Y, np.log(h0)) + np.multiply(1.0-Y, np.log(1.0 - h0)))\n",
    "        dw = (np.dot(X.T, np.transpose(h0 - Y)) + regul_p * w) / m  \n",
    "        db = np.mean((h0 - Y))\n",
    "\n",
    "        lr_w += dw ** 2\n",
    "        lr_b += db ** 2\n",
    "#\n",
    "        w = w - lr * dw / (np.sqrt(lr_w)+lamba)\n",
    "        b = b - lr * db / (np.sqrt(lr_b)+lamba)\n",
    "\n",
    "#        costs.append(cost)\n",
    "        count +=1\n",
    "        if count%1000 == 0:\n",
    "            print(('run %d times' %count))\n",
    "\n",
    "    return w,b,minx,maxx"
   ]
  },
  {
   "cell_type": "code",
   "execution_count": 7,
   "metadata": {
    "collapsed": true
   },
   "outputs": [],
   "source": [
    "def test(test_csv,output_csv,a):\n",
    "    w=a[0]\n",
    "    b=a[1]\n",
    "    minx = a[2]\n",
    "    maxx = a[3]\n",
    "    test = pd.read_csv(test_csv)\n",
    "    test = change_feature(test)\n",
    "    Xt = test.values\n",
    "    Xt = (Xt - minx) / (maxx - minx)\n",
    "    Yt = np.dot(Xt,w)+b\n",
    "    h0t = 1.0/(1 + np.exp(-1.0 * Yt))\n",
    "\n",
    "    Prediction = [1 if i >= 0.5 else 0 for i in h0t]\n",
    "    id_ = np.array([])\n",
    "    for i in range(len(Yt)):\n",
    "        id_=np.append(id_,'id_'+str(i))\n",
    "    final = pd.DataFrame(np.concatenate(([id_],[Prediction])).transpose(),columns = ['id','Value'])\n",
    "    final.to_csv(output_csv,index = False)\n",
    "    return Prediction"
   ]
  },
  {
   "cell_type": "code",
   "execution_count": 8,
   "metadata": {
    "scrolled": true
   },
   "outputs": [
    {
     "name": "stdout",
     "output_type": "stream",
     "text": [
      "Index([      'AGE',     'PAY_0',     'PAY_2',     'PAY_3',     'PAY_4',\n",
      "           'PAY_5',     'PAY_6', 'BILL_AMT1', 'BILL_AMT2', 'BILL_AMT3',\n",
      "       'BILL_AMT4', 'BILL_AMT5', 'BILL_AMT6',  'PAY_AMT1',  'PAY_AMT2',\n",
      "        'PAY_AMT3',  'PAY_AMT4',  'PAY_AMT5',  'PAY_AMT6',    'female',\n",
      "            'male',           1,           2,           3,           4,\n",
      "                 5,           6,     'Marry',    'Single',   'Unknown'],\n",
      "      dtype='object')\n",
      "run 1000 times\n",
      "run 2000 times\n",
      "run 3000 times\n",
      "run 4000 times\n",
      "run 5000 times\n",
      "run 6000 times\n",
      "run 7000 times\n",
      "run 8000 times\n",
      "run 9000 times\n",
      "run 10000 times\n"
     ]
    }
   ],
   "source": [
    "#train_x=input()\n",
    "#train_y=input()\n",
    "\n",
    "train_x = 'train_x.csv'\n",
    "train_y = 'train_y.csv'\n",
    "\n",
    "#train_x,train_y,test_x,out = input().split()\n",
    "\n",
    "a = training(train_x,train_y)\n",
    "test_x = 'test_x.csv'\n",
    "out = 'sample_submission_.csv'\n",
    "t=test(test_x,out,a)"
   ]
  },
  {
   "cell_type": "code",
   "execution_count": 9,
   "metadata": {},
   "outputs": [
    {
     "data": {
      "text/plain": [
       "972"
      ]
     },
     "execution_count": 9,
     "metadata": {},
     "output_type": "execute_result"
    }
   ],
   "source": [
    "sum(t)"
   ]
  },
  {
   "cell_type": "code",
   "execution_count": 96,
   "metadata": {},
   "outputs": [
    {
     "data": {
      "text/plain": [
       "(array([  6.21325672e-01,   6.65830059e+00,   3.22564932e-01,\n",
       "          2.42282153e+00,  -6.06901355e-01,  -2.04043220e-02,\n",
       "         -2.29332771e+00,  -1.12747533e+02,   4.13105341e+01,\n",
       "         -2.35349643e+01,   6.55681130e+00,   1.38933389e+02,\n",
       "         -2.33787732e+01,  -2.85910563e+02,  -2.03251608e+02,\n",
       "         -1.20779716e+02,  -1.50688439e+02,  -1.88484059e+02,\n",
       "         -1.34909596e+02,  -2.25082791e+01,  -2.25628911e+01,\n",
       "         -2.27052448e+01,  -1.16041378e+02,  -1.29600852e+02,\n",
       "         -4.00916999e+01,   1.78479183e+01,   1.79931485e+01,\n",
       "          1.75400521e+01]),\n",
       " 15.547747035061233,\n",
       " array([     21,      -2,      -2,      -2,      -2,      -2,      -2,\n",
       "        -165580,  -69777, -157264, -170000,  -61372, -339603,       0,\n",
       "              0,       0,       0,       0,       0,       0,       0,\n",
       "              0,       0,       0,       0,       0,       0,       0], dtype=int64),\n",
       " array([     79,       8,       7,       8,       8,       8,       8,\n",
       "         964511,  983931, 1664089,  891586,  927171,  961664,  873552,\n",
       "        1684259,  896040,  621000,  417990,  528666,       1,       1,\n",
       "              1,       1,       1,       1,       1,       1,       1], dtype=int64))"
      ]
     },
     "execution_count": 96,
     "metadata": {},
     "output_type": "execute_result"
    }
   ],
   "source": [
    "a"
   ]
  },
  {
   "cell_type": "code",
   "execution_count": 43,
   "metadata": {},
   "outputs": [
    {
     "data": {
      "text/plain": [
       "(array([  0.35664212,   6.14401107,   0.63895967,   1.09383371,\n",
       "         -0.26167628,   0.16108683,  -0.35113353, -20.74591359,\n",
       "          7.41897882,  -4.56342781,   0.18006909,  22.60755843,\n",
       "         -2.92350853, -48.3786634 , -36.67192043, -21.20054761,\n",
       "        -25.01792622, -26.82800533, -18.77956817,  -5.5844293 ,\n",
       "         -5.66560474,  -5.74220427, -13.75391427, -10.99803279,\n",
       "         -6.96250795,   3.40921941,   3.59086607,   3.5915781 ]),\n",
       " 2.0615917290381667,\n",
       " array([     21,      -2,      -2,      -2,      -2,      -2,      -2,\n",
       "        -165580,  -69777, -157264, -170000,  -61372, -339603,       0,\n",
       "              0,       0,       0,       0,       0,       0,       0,\n",
       "              0,       0,       0,       0,       0,       0,       0], dtype=int64),\n",
       " array([     79,       8,       7,       8,       8,       8,       8,\n",
       "         964511,  983931, 1664089,  891586,  927171,  961664,  873552,\n",
       "        1684259,  896040,  621000,  417990,  528666,       1,       1,\n",
       "              1,       1,       1,       1,       1,       1,       1], dtype=int64))"
      ]
     },
     "execution_count": 43,
     "metadata": {},
     "output_type": "execute_result"
    }
   ],
   "source": [
    "a"
   ]
  },
  {
   "cell_type": "code",
   "execution_count": 49,
   "metadata": {},
   "outputs": [
    {
     "data": {
      "text/plain": [
       "(array([  0.35664212,   6.14401107,   0.63895967,   1.09383371,\n",
       "         -0.26167628,   0.16108683,  -0.35113353, -20.74591359,\n",
       "          7.41897882,  -4.56342781,   0.18006909,  22.60755843,\n",
       "         -2.92350853, -48.3786634 , -36.67192043, -21.20054761,\n",
       "        -25.01792622, -26.82800533, -18.77956817,  -5.5844293 ,\n",
       "         -5.66560474,  -5.74220427, -13.75391427, -10.99803279,\n",
       "         -6.96250795,   3.40921941,   3.59086607,   3.5915781 ]),\n",
       " 2.0615917290381667,\n",
       " array([     21,      -2,      -2,      -2,      -2,      -2,      -2,\n",
       "        -165580,  -69777, -157264, -170000,  -61372, -339603,       0,\n",
       "              0,       0,       0,       0,       0,       0,       0,\n",
       "              0,       0,       0,       0,       0,       0,       0], dtype=int64),\n",
       " array([     79,       8,       7,       8,       8,       8,       8,\n",
       "         964511,  983931, 1664089,  891586,  927171,  961664,  873552,\n",
       "        1684259,  896040,  621000,  417990,  528666,       1,       1,\n",
       "              1,       1,       1,       1,       1,       1,       1], dtype=int64))"
      ]
     },
     "execution_count": 49,
     "metadata": {},
     "output_type": "execute_result"
    }
   ],
   "source": [
    "a"
   ]
  },
  {
   "cell_type": "code",
   "execution_count": null,
   "metadata": {
    "collapsed": true
   },
   "outputs": [],
   "source": []
  }
 ],
 "metadata": {
  "kernelspec": {
   "display_name": "Python 3",
   "language": "python",
   "name": "python3"
  },
  "language_info": {
   "codemirror_mode": {
    "name": "ipython",
    "version": 3
   },
   "file_extension": ".py",
   "mimetype": "text/x-python",
   "name": "python",
   "nbconvert_exporter": "python",
   "pygments_lexer": "ipython3",
   "version": "3.6.1"
  }
 },
 "nbformat": 4,
 "nbformat_minor": 2
}
