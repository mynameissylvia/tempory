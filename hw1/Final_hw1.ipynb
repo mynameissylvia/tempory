{
 "cells": [
  {
   "cell_type": "code",
   "execution_count": 1,
   "metadata": {
    "collapsed": true
   },
   "outputs": [],
   "source": [
    "import pandas as pd\n",
    "import numpy as np\n",
    "import csv\n",
    "import math"
   ]
  },
  {
   "cell_type": "code",
   "execution_count": null,
   "metadata": {},
   "outputs": [],
   "source": [
    "input_csv = input()\n",
    "out_csv = input()\n",
    "feature_count = 3\n",
    "new_train = pd.DataFrame()\n",
    "\n",
    "model = np.load('model.npy')\n",
    "\n",
    "topic = ['id','測項']+[i for i in range(9)]\n",
    "test = pd.read_csv(input_csv,names = topic)\n",
    "for i in test:\n",
    "    test[i].replace({'NR':0.0},inplace = True)\n",
    "\n",
    "PM2_5_t = test[test['測項']=='PM2.5'].iloc[:,2:]\n",
    "CO_t = test[test['測項']=='CO'].iloc[:,2:]\n",
    "PM10_t = test[test['測項']=='PM10'].iloc[:,2:]\n",
    "test = pd.DataFrame(pd.concat([CO_t,PM10_t,PM2_5_t]).sort_index().values).apply(pd.to_numeric, errors='ignore')\n",
    "\n",
    "x_test = []\n",
    "for j in range(0,test.shape[0],feature_count):\n",
    "    count = test.shape[1]-9\n",
    "    if count > 0:\n",
    "        for i in range(test.shape[1]-9):\n",
    "            x_t = np.array(test.iloc[j:j+feature_count,i+2:i+9])\n",
    "            x_test.append(x_t.flatten())\n",
    "    else:\n",
    "        x_t = np.array(test.iloc[j:j+feature_count,2:])\n",
    "        x_test.append(x_t.flatten())\n",
    "X_t = np.array(x_test,float)\n",
    "\n",
    "X_t=(X_t - model[2]) / (model[1] - model[2])\n",
    "X_test = np.insert(X_t,0,1,axis = 1)\n",
    "Y_test = np.dot(X_test,model[0])\n",
    "id_ = np.array([])\n",
    "for i in range(len(Y_test)):\n",
    "    id_=np.append(id_,'id_'+str(i))\n",
    "final = pd.DataFrame(np.concatenate(([id_],[Y_test])).transpose(),columns = ['id','value'])\n",
    "final.to_csv(out_csv,index = False)"
   ]
  },
  {
   "cell_type": "code",
   "execution_count": null,
   "metadata": {
    "collapsed": true
   },
   "outputs": [],
   "source": []
  }
 ],
 "metadata": {
  "kernelspec": {
   "display_name": "Python 3",
   "language": "python",
   "name": "python3"
  },
  "language_info": {
   "codemirror_mode": {
    "name": "ipython",
    "version": 3
   },
   "file_extension": ".py",
   "mimetype": "text/x-python",
   "name": "python",
   "nbconvert_exporter": "python",
   "pygments_lexer": "ipython3",
   "version": "3.6.1"
  }
 },
 "nbformat": 4,
 "nbformat_minor": 2
}
