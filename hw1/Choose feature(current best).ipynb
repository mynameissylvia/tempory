{
 "cells": [
  {
   "cell_type": "code",
   "execution_count": 141,
   "metadata": {
    "collapsed": true
   },
   "outputs": [],
   "source": [
    "#output:8.53585\n",
    "\n",
    "import pandas as pd\n",
    "import numpy as np\n",
    "import csv\n",
    "import math\n"
   ]
  },
  {
   "cell_type": "code",
   "execution_count": 142,
   "metadata": {
    "collapsed": true
   },
   "outputs": [],
   "source": [
    "train = pd.read_csv('data/train.csv',encoding = \"big5\")\n",
    "topic = ['id','測項']+[i for i in range(9)]\n",
    "for i in train:\n",
    "    train[i].replace({'NR':0.0},inplace = True)\n",
    "#雨水nr換成0\n",
    "\n",
    "\n",
    "\n",
    "#不需要所有的試驗考慮因子,有鑑於相關係數判定目前有：\n",
    "#CO(2，後五個較高有>0.3)、NMHC(3)(0.14-0.25)、NO2(5)(0.2-0.3)、NOx(6)(0.17-0.28)、PM10(8)、過往PM2.5(9)\n",
    "#第10小時的PM2.5值為answer。一個月有480小時，總共可作480-9=473次\n",
    "#為了增加training，把資料從每天換成每個月，為此，要將天數往旁移\n",
    "\n",
    "#train model目前採用參數：CO,PM10,PM2.5,取前七個小時數值\n",
    "\n",
    "\n",
    "n_month = 12\n",
    "feature_count = 3\n",
    "n_day = 20\n",
    "new_train = pd.DataFrame()\n",
    "\n",
    "\n",
    "CO = train[train['測項']=='CO'].iloc[:,3:]\n",
    "PM2_5 = train[train['測項']=='PM2.5'].iloc[:,3:]\n",
    "PM10 = train[train['測項']=='PM10'].iloc[:,3:]\n",
    "train = pd.DataFrame(pd.concat([CO,PM10,PM2_5]).sort_index().values).apply(pd.to_numeric, errors='ignore')\n",
    "\n",
    "for i in range(n_month):\n",
    "    month = pd.DataFrame(train.iloc[i*feature_count*n_day:i*feature_count*n_day+feature_count,:].values)\n",
    "    for j in range(n_day-1):\n",
    "        day = pd.DataFrame(train.iloc[i*feature_count*n_day+(j+1)*feature_count:i*feature_count*n_day+(j+2)*feature_count,:].values)\n",
    "        day.columns = [24*(j+1)+i for i in range(24)]\n",
    "        month = month.join(day)\n",
    "    new_train=new_train.append(month)\n",
    "train = pd.DataFrame(new_train.values)"
   ]
  },
  {
   "cell_type": "code",
   "execution_count": 143,
   "metadata": {
    "collapsed": true
   },
   "outputs": [],
   "source": [
    "x_train = []\n",
    "y_train=[]\n",
    "\n",
    "\n",
    "for j in range(0,train.shape[0],feature_count):\n",
    "    for i in range(train.shape[1]-9):\n",
    "        x = train.iloc[j:j+feature_count,i+2:i+9].values\n",
    "        x_train.append(x.flatten())\n",
    "        y = train.iloc[j+feature_count-1,i+9]\n",
    "        y_train.append(y)\n",
    "X = np.array(x_train,float)\n",
    "Y = np.array(y_train,float)\n",
    "#feature scaling\n",
    "minx = np.min(X, axis=0)\n",
    "maxx = np.max(X, axis=0)\n",
    "X=(X - minx) / (maxx - minx)\n",
    "X = np.insert(X,0,1,axis = 1)"
   ]
  },
  {
   "cell_type": "code",
   "execution_count": 218,
   "metadata": {},
   "outputs": [],
   "source": [
    "b=0\n",
    "w  =  np.zeros(len(X[0]))\n",
    "s_g  = np.zeros(len(X[0]))\n",
    "lr = 100\n",
    "lamba = 0.01\n",
    "landa  =  10^-7\n",
    "x_t  =  X.transpose()\n",
    "run = 5000\n",
    "l2Norm = 0\n",
    "RMSELoss=[]\n",
    "\n",
    "for i in range(run):\n",
    "    tem_y = np.dot(X,w)\n",
    "    loss = tem_y-Y\n",
    "    theta = w.copy()\n",
    "    theta[0] = 0 \n",
    "    gradient = 2 * np.dot(x_t,loss) + lamba*(theta**2)\n",
    "    s_g += gradient ** 2\n",
    "    adagrad = np.sqrt(s_g)\n",
    "    w = w - lr * gradient / (adagrad+landa)\n",
    "    RMSELoss.append(np.sqrt(np.mean(loss**2)))\n",
    "    l2_norm = lamba/ (2*len(X[0]))*sum(w**2)\n",
    "#    print(theta)"
   ]
  },
  {
   "cell_type": "code",
   "execution_count": 197,
   "metadata": {
    "scrolled": true
   },
   "outputs": [],
   "source": [
    "topic = ['id','測項']+[i for i in range(9)]\n",
    "test = pd.read_csv('data/test.csv',names = topic)\n",
    "for i in test:\n",
    "    test[i].replace({'NR':0.0},inplace = True)\n",
    "\n",
    "#test = test.iloc[:,2:].apply(pd.to_numeric, errors='ignore')\n",
    "PM2_5_t = test[test['測項']=='PM2.5'].iloc[:,2:]\n",
    "CO_t = test[test['測項']=='CO'].iloc[:,2:]\n",
    "PM10_t = test[test['測項']=='PM10'].iloc[:,2:]\n",
    "test = pd.DataFrame(pd.concat([CO_t,PM10_t,PM2_5_t]).sort_index().values).apply(pd.to_numeric, errors='ignore')\n",
    "\n",
    "x_test = []\n",
    "for j in range(0,test.shape[0],feature_count):\n",
    "    count = test.shape[1]-9\n",
    "    if count > 0:\n",
    "        for i in range(test.shape[1]-9):\n",
    "            x_t = np.array(test.iloc[j:j+feature_count,i+2:i+9])\n",
    "            x_test.append(x_t.flatten())\n",
    "    else:\n",
    "        x_t = np.array(test.iloc[j:j+feature_count,2:])\n",
    "        x_test.append(x_t.flatten())\n",
    "X_t = np.array(x_test,float)\n",
    "minx_t = np.min(X_t, axis=0)\n",
    "maxx_t = np.max(X_t, axis=0)\n",
    "X_t=(X_t - minx) / (maxx - minx)\n",
    "X_test = np.insert(X_t,0,1,axis = 1)\n",
    "Y_test = np.dot(X_test,w)\n",
    "id_ = np.array([])\n",
    "for i in range(len(Y_test)):\n",
    "    id_=np.append(id_,'id_'+str(i))\n",
    "final = pd.DataFrame(np.concatenate(([id_],[Y_test])).transpose(),columns = ['id','value'])\n",
    "final.to_csv('sampleSubmission.csv',index = False)"
   ]
  }
 ],
 "metadata": {
  "kernelspec": {
   "display_name": "Python 3",
   "language": "python",
   "name": "python3"
  },
  "language_info": {
   "codemirror_mode": {
    "name": "ipython",
    "version": 3
   },
   "file_extension": ".py",
   "mimetype": "text/x-python",
   "name": "python",
   "nbconvert_exporter": "python",
   "pygments_lexer": "ipython3",
   "version": "3.6.1"
  }
 },
 "nbformat": 4,
 "nbformat_minor": 2
}
